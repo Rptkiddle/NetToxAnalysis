{
 "cells": [
  {
   "cell_type": "markdown",
   "id": "48318e61-84de-43e5-b0d4-de45372a9cf9",
   "metadata": {},
   "source": [
    "# Extract Toxicity Network Data\n",
    "\n",
    "*This workbook repacks the results objects from the IDTxl estimation process (4_estimate.py) into arrays suitable for network analysis.*\n",
    "\n",
    "- **INPUTS:** the following input files must be in the data directory:\n",
    "    - `resampled.csv` (resampled toxicity timeseries data, output of 4_resample.py)\n",
    "    - `[OUTPUT_FILE]_results_iterations_[iterations]`.pkl (mTE estimation results, output of 5_estimate.py)\n",
    "    - `[OUTPUT_FILE]_globalID_iterations_[iterations]` (global edge identifiers, output of 5_estimate.py)\n",
    "    - `[OUTPUT_FILE]_localID_iterations_[iterations]` (local to global edge conversions, output of 5_estimate.py)"
   ]
  },
  {
   "cell_type": "markdown",
   "id": "f63430c3-31d5-4232-9b3e-43438d1639c4",
   "metadata": {
    "jp-MarkdownHeadingCollapsed": true,
    "tags": []
   },
   "source": [
    "## setup"
   ]
  },
  {
   "cell_type": "code",
   "execution_count": null,
   "id": "28cf954f-b372-4df2-a0c9-1812e89af8e8",
   "metadata": {},
   "outputs": [],
   "source": [
    "#GENERAL\n",
    "import os\n",
    "import pickle\n",
    "import itertools\n",
    "import numpy as np\n",
    "import pandas as pd\n",
    "\n",
    "#data directory:\n",
    "datadir = os.getcwd()+'/../../data/'\n",
    "\n",
    "#declare filenames:\n",
    "resampled_filename = 'resampled.csv' #resampled toxicity timeseries data\n",
    "mte_results_filename = 'results_day0_to_day165.pkl' #results from mTE analysis\n",
    "globalIDs_filename = 'global_IDs.pkl' #global IDs from mTE analysis\n",
    "localIDs_filename = 'convert_ID_day0_to_day165.pkl' #local IDs from mTE analysis"
   ]
  },
  {
   "cell_type": "markdown",
   "id": "344d78ed-2dbd-4ca9-9d60-8d55b8d2c97a",
   "metadata": {
    "jp-MarkdownHeadingCollapsed": true,
    "tags": []
   },
   "source": [
    "## prepare data"
   ]
  },
  {
   "cell_type": "code",
   "execution_count": null,
   "id": "45defc3d-61dd-4b5d-9296-a20a71b9f8de",
   "metadata": {},
   "outputs": [],
   "source": [
    "#load toxicity network data - \n",
    "\n",
    "#load mTE results:\n",
    "with open(datadir+mte_results_filename, 'rb') as f:\n",
    "    results = pickle.load(f)\n",
    "\n",
    "#load global IDs:\n",
    "with open(datadir+globalIDs_filename, 'rb') as f:\n",
    "    global_IDs = pickle.load(f)\n",
    "    \n",
    "#load ID conversion dict:\n",
    "with open(datadir+localIDs_filename, 'rb') as f:\n",
    "    convert_ID = pickle.load(f)"
   ]
  },
  {
   "cell_type": "code",
   "execution_count": null,
   "id": "60f1c70f-8673-4201-8b5a-a1524ae38eab",
   "metadata": {},
   "outputs": [],
   "source": [
    "#load resampled timeseries data - \n",
    "\n",
    "#resampled = pd.read_csv(datadir+'resampled.csv')\n",
    "resampled = pd.read_csv(datadir+resampled_filename)\n",
    "\n",
    "#reformat date column (str -> datetime): \n",
    "resampled['date']= pd.to_datetime(resampled['date'])\n",
    "\n",
    "#set datetimeindex (time series data):\n",
    "resampled = resampled.set_index('date').sort_index()\n",
    "\n",
    "#pivot long into wide (sparse) format:\n",
    "pivoted = pd.pivot(resampled, columns='source', values='retox')"
   ]
  },
  {
   "cell_type": "markdown",
   "id": "2c19309c-bc62-4adc-9e15-99a98f89e8b3",
   "metadata": {
    "jp-MarkdownHeadingCollapsed": true,
    "tags": []
   },
   "source": [
    "## repack IDTxl results objects into arrays for plotting"
   ]
  },
  {
   "cell_type": "markdown",
   "id": "a7a4fa2a",
   "metadata": {},
   "source": [
    "### configuration:"
   ]
  },
  {
   "cell_type": "code",
   "execution_count": null,
   "id": "e6f88f17-628c-491d-823b-d823f501cfe6",
   "metadata": {},
   "outputs": [],
   "source": [
    "#input settings for sliding window (same as 4_estimate.py):\n",
    "iterations = 495 #number of iterations.\n",
    "window_size = 96 #samples per window."
   ]
  },
  {
   "cell_type": "code",
   "execution_count": null,
   "id": "a721c1af",
   "metadata": {},
   "outputs": [],
   "source": [
    "# create a template zeroed 3D array to populate with results:\n",
    "x_sources = len(global_IDs) # use global ID list to determine number of sources (X).\n",
    "y_targets = len(global_IDs) #use global ID list to determine number of targets (Z).\n",
    "z_windows = len(results) #use number of windows to determine number of windows (Y).\n",
    "template = np.zeros((x_sources, y_targets, z_windows))\n",
    "print(template.shape)"
   ]
  },
  {
   "cell_type": "markdown",
   "id": "20743d66",
   "metadata": {},
   "source": [
    "### create array of significant edges:"
   ]
  },
  {
   "cell_type": "code",
   "execution_count": null,
   "id": "e137c1c3-e2eb-4f5d-a189-3032114571dd",
   "metadata": {},
   "outputs": [],
   "source": [
    "# copy template:\n",
    "sig_edges_xyz = np.copy(template)\n",
    "\n",
    "#for every window:\n",
    "for r, z in zip(results, range(sig_edges_xyz.shape[-1])):\n",
    "    \n",
    "    # for every target present:\n",
    "    for targets in r[1].get_source_variables(fdr=False):\n",
    "        target = targets['target']\n",
    "        \n",
    "        #for every source present:\n",
    "        for sourceset in targets['selected_vars_sources']:\n",
    "            \n",
    "            #increment edge count (significance implied):\n",
    "            edge = (convert_ID[r[0]][sourceset[0]], \n",
    "                    convert_ID[r[0]][target])\n",
    "            sig_edges_xyz[...,z][edge[0],edge[1]] += 1\n",
    "                       \n",
    "#simplify to 2D array of total edge counts over all time (-z):\n",
    "sig_edges_xy = np.sum(sig_edges_xyz, axis=2)"
   ]
  },
  {
   "cell_type": "markdown",
   "id": "cbced510",
   "metadata": {},
   "source": [
    "### create array of all edges:"
   ]
  },
  {
   "cell_type": "code",
   "execution_count": null,
   "id": "2b533293",
   "metadata": {},
   "outputs": [],
   "source": [
    "# copy template:\n",
    "tot_edges_xyz = np.copy(template)\n",
    "\n",
    "# initialize the sliding window:\n",
    "begin, end = 0, window_size\n",
    "\n",
    "# for the stated number of iterations:\n",
    "for iteration in range(iterations):\n",
    "   \n",
    "    # take the window; drop any chats/channels for which there is missing data (NaN)\n",
    "    embedding = pivoted.iloc[begin:end].dropna(axis=1, how='any')\n",
    "    sources = range(embedding.shape[1])\n",
    "    \n",
    "    # build a list of tuples where each pair is the global coordinates (x, y) for a considered edge\n",
    "    local_coords = [c for c in list(itertools.product(sources, sources)) if len(set(c)) == len(c)]\n",
    "    global_coords = [(convert_ID[str(embedding.first_valid_index())][x], convert_ID[str(embedding.first_valid_index())][y]) for x, y in local_coords]\n",
    "    \n",
    "    # update the array for the current z-index (iteration)\n",
    "    for edge in global_coords:\n",
    "        tot_edges_xyz[..., iteration][edge[0], edge[1]] += 1\n",
    "\n",
    "    # Increment the window for the next iteration\n",
    "    begin += window_size\n",
    "    end += window_size\n",
    "\n",
    "# Check if the 'end' index in the last iteration exceeds the size of 'pivoted', and adjust if necessary\n",
    "if end > pivoted.shape[0]:\n",
    "    end = pivoted.shape[0]\n",
    "\n",
    "# Simplify to a 2D array by summing across the z-axis (iterations).\n",
    "tot_edges_xy = np.sum(tot_edges_xyz, axis=2)"
   ]
  },
  {
   "cell_type": "markdown",
   "id": "27471055",
   "metadata": {},
   "source": [
    "### combine arrays to obtain network data:"
   ]
  },
  {
   "cell_type": "code",
   "execution_count": null,
   "id": "af8cc2c4-ef2f-41a3-b219-a90dde2f950d",
   "metadata": {},
   "outputs": [],
   "source": [
    "# OPTION 1: overlay to create third array with proportion of significant edges / total edges.\n",
    "#sigtot_xy = np.divide(sig_edges_xy, tot_edges_xy, out=np.zeros_like(sig_edges_xy), where=tot_edges_xy!=0)\n",
    "\n",
    "# OPTION 2: overlay to create third array with proportion of significant edges / MAX total edges.\n",
    "sigtot_xy = np.divide(sig_edges_xy, np.amax(tot_edges_xy), out=np.zeros_like(sig_edges_xy), where=tot_edges_xy!=0)"
   ]
  },
  {
   "cell_type": "markdown",
   "id": "0cb5e2e8",
   "metadata": {},
   "source": [
    "### overview of network data:"
   ]
  },
  {
   "cell_type": "code",
   "execution_count": null,
   "id": "7cacd533",
   "metadata": {},
   "outputs": [],
   "source": [
    "#title:\n",
    "print(\"NETWORK SUMMARY:\")\n",
    "\n",
    "# report number of nodes:\n",
    "print(f\"Number of nodes: {sig_edges_xy.shape[0]}\")\n",
    "\n",
    "# report number of edges:\n",
    "print(f\"Number of edges: {np.count_nonzero(sigtot_xy)}\")\n",
    "\n",
    "# report proportion of potential edges with at least one significant edge:\n",
    "print(f\"Proportion of potential edges with at least one significant edge: {np.sum(sigtot_xy)/np.count_nonzero(sigtot_xy)}\")\n",
    "\n",
    "# report max and min proportion of significant edges:\n",
    "print(f\"Maximum edge weight (significant/considered(max)): {np.amax(sigtot_xy)}\")\n",
    "print(f\"Minimum (non-zero) edge weight (significant/considered(max)): {np.min(sigtot_xy[sigtot_xy>0])}\")\n",
    "\n",
    "# report average proportion of significant edges:\n",
    "print(f\"Average edge weight (significant/considered(max)): {np.mean(sigtot_xy)}\")\n",
    "\n"
   ]
  },
  {
   "cell_type": "markdown",
   "id": "e254131a",
   "metadata": {},
   "source": [
    "### save network data:"
   ]
  },
  {
   "cell_type": "code",
   "execution_count": null,
   "id": "114e80cb",
   "metadata": {},
   "outputs": [],
   "source": [
    "#save array to local:\n",
    "np.save(datadir+'nettoxresults.npy', sigtot_xy)"
   ]
  }
 ],
 "metadata": {
  "kernelspec": {
   "display_name": "Python 3.10.6 ('scratch')",
   "language": "python",
   "name": "python3"
  },
  "language_info": {
   "codemirror_mode": {
    "name": "ipython",
    "version": 3
   },
   "file_extension": ".py",
   "mimetype": "text/x-python",
   "name": "python",
   "nbconvert_exporter": "python",
   "pygments_lexer": "ipython3",
   "version": "3.9.18"
  },
  "vscode": {
   "interpreter": {
    "hash": "435370adf77703aea1b8e572effd6e7704a84dcbbb2e582aa618133564cbd1e5"
   }
  }
 },
 "nbformat": 4,
 "nbformat_minor": 5
}
