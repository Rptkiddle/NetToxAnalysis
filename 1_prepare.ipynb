{
 "cells": [
  {
   "cell_type": "markdown",
   "id": "6cc44ecf-c671-4e60-9329-41cf96a62ea0",
   "metadata": {},
   "source": [
    "# 1. data preparation\n",
    "\n",
    "- **INPUT**: `source.csv` timeseries dataset, where message or post text is in single (named) column.\n",
    "- **OUTPUT**: `texts_for_classification.csv` file with unique messages in first column (duplicates removed).\n",
    "    - pass this output to `2_classify.py` to retrieve toxicity scores via Perspective API."
   ]
  },
  {
   "cell_type": "markdown",
   "id": "87654096-ef3a-4cd5-8e24-e9f858b28413",
   "metadata": {
    "jp-MarkdownHeadingCollapsed": true,
    "tags": []
   },
   "source": [
    "## setup"
   ]
  },
  {
   "cell_type": "code",
   "execution_count": null,
   "id": "5d923eda-40c9-49c6-a0da-77319a79e1b1",
   "metadata": {},
   "outputs": [],
   "source": [
    "#dependencies:\n",
    "import os\n",
    "import pandas as pd\n",
    "\n",
    "#declare path to data directory:\n",
    "datadir = os.getcwd()+'/../../data/'"
   ]
  },
  {
   "cell_type": "markdown",
   "id": "7b979653-d1a3-419b-a3d3-eb32f5df9ea9",
   "metadata": {
    "jp-MarkdownHeadingCollapsed": true,
    "tags": []
   },
   "source": [
    "## load source dataset\n",
    "This should be a .csv file in which messages are stored in a single named column."
   ]
  },
  {
   "cell_type": "code",
   "execution_count": null,
   "id": "da13d713-05bd-4d0f-9d96-55c1bad45608",
   "metadata": {},
   "outputs": [],
   "source": [
    "#declare name of source file (i.e, messaging or post data): \n",
    "source_file = 'source.csv'\n",
    "\n",
    "#load file into a dataframe:\n",
    "data = pd.read_csv(datadir+source_file)\n",
    "\n",
    "#check data:\n",
    "data.head()"
   ]
  },
  {
   "cell_type": "markdown",
   "id": "eb5347d0-4b11-45d4-8028-76e42887682d",
   "metadata": {
    "jp-MarkdownHeadingCollapsed": true,
    "tags": []
   },
   "source": [
    "## remove duplicate messages"
   ]
  },
  {
   "cell_type": "code",
   "execution_count": null,
   "id": "064f0625-c9af-48ea-beb1-4a92e71317d2",
   "metadata": {},
   "outputs": [],
   "source": [
    "#declare the name of the column containing message or post text:\n",
    "messages_col = 'text'\n",
    "\n",
    "#take this message/post column into list:\n",
    "messages = data[messages_col].tolist()\n",
    "\n",
    "#and drop any duplicates: \n",
    "nodupes = list(set(messages))\n",
    "\n",
    "#enumerate this reduction:\n",
    "print(f\"reduced {len(messages)} messages to {len(nodupes)} unique messages after removing duplicates.\")"
   ]
  },
  {
   "cell_type": "markdown",
   "id": "e63d61a2",
   "metadata": {},
   "source": [
    "## export unique messages to .csv file"
   ]
  },
  {
   "cell_type": "code",
   "execution_count": null,
   "id": "b5e8e6aa",
   "metadata": {},
   "outputs": [],
   "source": [
    "#save de-duplicated messages/posts to .csv for classification:\n",
    "pd.DataFrame(nodupes).to_csv(datadir+'texts_for_classification.csv', index=False)"
   ]
  }
 ],
 "metadata": {
  "kernelspec": {
   "display_name": "Python 3.10.6 ('scratch')",
   "language": "python",
   "name": "python3"
  },
  "language_info": {
   "codemirror_mode": {
    "name": "ipython",
    "version": 3
   },
   "file_extension": ".py",
   "mimetype": "text/x-python",
   "name": "python",
   "nbconvert_exporter": "python",
   "pygments_lexer": "ipython3",
   "version": "3.9.18"
  },
  "vscode": {
   "interpreter": {
    "hash": "435370adf77703aea1b8e572effd6e7704a84dcbbb2e582aa618133564cbd1e5"
   }
  }
 },
 "nbformat": 4,
 "nbformat_minor": 5
}
